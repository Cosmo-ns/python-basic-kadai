{
 "cells": [
  {
   "cell_type": "code",
   "execution_count": 1,
   "metadata": {},
   "outputs": [
    {
     "name": "stdout",
     "output_type": "stream",
     "text": [
      "山田太郎さんは大人です。\n",
      "鈴木花子さんは大人ではありません。\n",
      "田中次郎さんは大人です。\n"
     ]
    }
   ],
   "source": [
    "class Human:\n",
    "    def __init__(self, name, age):\n",
    "        self.name = name\n",
    "        self.age = age\n",
    "    \n",
    "    def check_adult(self):    \n",
    "        if self.age >= 20:\n",
    "            print(f\"{self.name}さんは大人です。\")\n",
    "        else: print(f\"{self.name}さんは大人ではありません。\") \n",
    "                \n",
    "humans = []\n",
    "humans.append(Human(\"山田太郎\", 25))\n",
    "humans.append(Human(\"鈴木花子\", 15))\n",
    "humans.append(Human(\"田中次郎\", 30))\n",
    "\n",
    "for human in humans:\n",
    "    human.check_adult()"
   ]
  },
  {
   "cell_type": "code",
   "execution_count": null,
   "metadata": {},
   "outputs": [],
   "source": []
  }
 ],
 "metadata": {
  "kernelspec": {
   "display_name": "base",
   "language": "python",
   "name": "python3"
  },
  "language_info": {
   "codemirror_mode": {
    "name": "ipython",
    "version": 3
   },
   "file_extension": ".py",
   "mimetype": "text/x-python",
   "name": "python",
   "nbconvert_exporter": "python",
   "pygments_lexer": "ipython3",
   "version": "3.9.7"
  }
 },
 "nbformat": 4,
 "nbformat_minor": 2
}
